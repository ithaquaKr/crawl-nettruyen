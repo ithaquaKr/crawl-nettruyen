{
 "metadata": {
  "language_info": {
   "codemirror_mode": {
    "name": "ipython",
    "version": 3
   },
   "file_extension": ".py",
   "mimetype": "text/x-python",
   "name": "python",
   "nbconvert_exporter": "python",
   "pygments_lexer": "ipython3",
   "version": "3.8.5-final"
  },
  "orig_nbformat": 2,
  "kernelspec": {
   "name": "python3",
   "display_name": "Python 3.8.5 32-bit",
   "metadata": {
    "interpreter": {
     "hash": "cd6fab7119cab12a3d1741d201bf0422443e91c54fcb0df54b992ba9e5641e4b"
    }
   }
  }
 },
 "nbformat": 4,
 "nbformat_minor": 2,
 "cells": [
  {
   "cell_type": "code",
   "execution_count": 2,
   "metadata": {},
   "outputs": [
    {
     "output_type": "execute_result",
     "data": {
      "text/plain": [
       "                                    Name         Author          Status  \\\n",
       "0         Trước Kia Có Tòa Linh Kiếm Sơn  Đang cập nhật  Đang tiến hành   \n",
       "1            Một mình dạo quanh hầm ngục      Manhwa TV  Đang tiến hành   \n",
       "2  Phàm Nhân Tu Tiên chi Tiên Giới thiên       Vong Ngữ  Đang tiến hành   \n",
       "3    Ta Chẳng Qua Là Một Đại La Kim Tiên  Đang cập nhật  Đang tiến hành   \n",
       "4                     Một Đời Thành Tiên  Đang cập nhật  Đang tiến hành   \n",
       "\n",
       "                                                 Tag       Views  \\\n",
       "0             Action - Manhua - Romance - Truyện Màu  25.408.194   \n",
       "1       Action - Fantasy - Supernatural - Truyện Màu   3.868.989   \n",
       "2          Adventure - Manhua - Mystery - Truyện Màu   2.495.628   \n",
       "3                       Action - Manhua - Truyện Màu  10.135.758   \n",
       "4  Cổ Đại - Manhua - Supernatural - Truyện Màu - ...     577.003   \n",
       "\n",
       "                                            URL Link  \n",
       "0  http://www.nettruyen.com/truyen-tranh/truoc-ki...  \n",
       "1  http://www.nettruyen.com/truyen-tranh/mot-minh...  \n",
       "2  http://www.nettruyen.com/truyen-tranh/pham-nha...  \n",
       "3  http://www.nettruyen.com/truyen-tranh/ta-chang...  \n",
       "4  http://www.nettruyen.com/truyen-tranh/mot-doi-...  "
      ],
      "text/html": "<div>\n<style scoped>\n    .dataframe tbody tr th:only-of-type {\n        vertical-align: middle;\n    }\n\n    .dataframe tbody tr th {\n        vertical-align: top;\n    }\n\n    .dataframe thead th {\n        text-align: right;\n    }\n</style>\n<table border=\"1\" class=\"dataframe\">\n  <thead>\n    <tr style=\"text-align: right;\">\n      <th></th>\n      <th>Name</th>\n      <th>Author</th>\n      <th>Status</th>\n      <th>Tag</th>\n      <th>Views</th>\n      <th>URL Link</th>\n    </tr>\n  </thead>\n  <tbody>\n    <tr>\n      <th>0</th>\n      <td>Trước Kia Có Tòa Linh Kiếm Sơn</td>\n      <td>Đang cập nhật</td>\n      <td>Đang tiến hành</td>\n      <td>Action - Manhua - Romance - Truyện Màu</td>\n      <td>25.408.194</td>\n      <td>http://www.nettruyen.com/truyen-tranh/truoc-ki...</td>\n    </tr>\n    <tr>\n      <th>1</th>\n      <td>Một mình dạo quanh hầm ngục</td>\n      <td>Manhwa TV</td>\n      <td>Đang tiến hành</td>\n      <td>Action - Fantasy - Supernatural - Truyện Màu</td>\n      <td>3.868.989</td>\n      <td>http://www.nettruyen.com/truyen-tranh/mot-minh...</td>\n    </tr>\n    <tr>\n      <th>2</th>\n      <td>Phàm Nhân Tu Tiên chi Tiên Giới thiên</td>\n      <td>Vong Ngữ</td>\n      <td>Đang tiến hành</td>\n      <td>Adventure - Manhua - Mystery - Truyện Màu</td>\n      <td>2.495.628</td>\n      <td>http://www.nettruyen.com/truyen-tranh/pham-nha...</td>\n    </tr>\n    <tr>\n      <th>3</th>\n      <td>Ta Chẳng Qua Là Một Đại La Kim Tiên</td>\n      <td>Đang cập nhật</td>\n      <td>Đang tiến hành</td>\n      <td>Action - Manhua - Truyện Màu</td>\n      <td>10.135.758</td>\n      <td>http://www.nettruyen.com/truyen-tranh/ta-chang...</td>\n    </tr>\n    <tr>\n      <th>4</th>\n      <td>Một Đời Thành Tiên</td>\n      <td>Đang cập nhật</td>\n      <td>Đang tiến hành</td>\n      <td>Cổ Đại - Manhua - Supernatural - Truyện Màu - ...</td>\n      <td>577.003</td>\n      <td>http://www.nettruyen.com/truyen-tranh/mot-doi-...</td>\n    </tr>\n  </tbody>\n</table>\n</div>"
     },
     "metadata": {},
     "execution_count": 2
    }
   ],
   "source": [
    "import pandas as pd\n",
    "import matplotlib.pyplot as plt\n",
    "\n",
    "acess = pd.read_json(\"D:/Code/crawl_nettruyen/list_manga.json\")\n",
    "acess.head()"
   ]
  },
  {
   "cell_type": "code",
   "execution_count": null,
   "metadata": {},
   "outputs": [],
   "source": []
  }
 ]
}