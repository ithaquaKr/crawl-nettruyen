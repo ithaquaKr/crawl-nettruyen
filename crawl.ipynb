{
 "metadata": {
  "language_info": {
   "codemirror_mode": {
    "name": "ipython",
    "version": 3
   },
   "file_extension": ".py",
   "mimetype": "text/x-python",
   "name": "python",
   "nbconvert_exporter": "python",
   "pygments_lexer": "ipython3",
   "version": "3.8.5-final"
  },
  "orig_nbformat": 2,
  "kernelspec": {
   "name": "python3",
   "display_name": "Python 3.8.5 32-bit",
   "metadata": {
    "interpreter": {
     "hash": "cd6fab7119cab12a3d1741d201bf0422443e91c54fcb0df54b992ba9e5641e4b"
    }
   }
  }
 },
 "nbformat": 4,
 "nbformat_minor": 2,
 "cells": [
  {
   "cell_type": "code",
   "execution_count": 12,
   "metadata": {},
   "outputs": [],
   "source": [
    "from selenium import webdriver\n",
    "from selenium.webdriver.common.keys import Keys\n",
    "from time import sleep\n",
    "from bs4 import BeautifulSoup\n",
    "import json\n",
    "#1 Truy cap Nettruyen\n",
    "browser = webdriver.Chrome(executable_path=\"C:/Users/ADMIN/chromedriver.exe\")\n",
    "url = \"http://www.nettruyen.com\"\n",
    "browser.get(url)\n",
    "sleep(5)\n",
    "\n"
   ]
  },
  {
   "cell_type": "code",
   "execution_count": 13,
   "metadata": {},
   "outputs": [],
   "source": [
    "#2 Truy cap search\n",
    "#\n",
    "search_bar = browser.find_element_by_xpath(\"/html/body/form/header/div/div/div/div[2]/div/input\")\n",
    "#\n",
    "search_key = input(\"What do you want to search?  \")\n",
    "search_bar.send_keys(search_key)\n",
    "#\n",
    "search_bar.send_keys(Keys.ENTER)"
   ]
  },
  {
   "cell_type": "code",
   "execution_count": 14,
   "metadata": {},
   "outputs": [],
   "source": [
    "#3 Lay danh sach truyen\n",
    "def get_url():\n",
    "    page_source = BeautifulSoup(browser.page_source,\"html.parser\")\n",
    "    url_source_manga = page_source.find_all('a',class_='jtip')\n",
    "    list_url_manga = []\n",
    "    for manga in url_source_manga:\n",
    "        manga_URL = manga.get('href')\n",
    "        if manga_URL not in list_url_manga:\n",
    "            list_url_manga.append(manga_URL)\n",
    "    return list_url_manga"
   ]
  },
  {
   "cell_type": "code",
   "execution_count": 15,
   "metadata": {},
   "outputs": [],
   "source": [
    "#3.5 Lay danh sach truyen nhieu page\n",
    "number_of_page =  int(input(\"How many page u want to search?  \"))\n",
    "URL_all_page = []\n",
    "for page in range(number_of_page):\n",
    "    URL_one_page = get_url()\n",
    "    browser.execute_script(\"window.scrollTo(0, document.body.scrollHeight)\")\n",
    "    sleep(2)\n",
    "    if browser.find_element_by_class_name(\"next-page\"):\n",
    "        browser.find_element_by_class_name(\"next-page\").click()\n",
    "    else:\n",
    "        break\n",
    "    URL_all_page = URL_all_page + URL_one_page\n",
    "    sleep(5)"
   ]
  },
  {
   "cell_type": "code",
   "execution_count": 16,
   "metadata": {},
   "outputs": [],
   "source": [
    "with open('list_manga.json','w',encoding=\"UTF-8\") as f:\n",
    "    array = []\n",
    "    for link in URL_all_page:\n",
    "        browser.get(link)\n",
    "        sleep(2)\n",
    "        page_source = BeautifulSoup(browser.page_source,\"html.parser\")\n",
    "        #Get the title\n",
    "        title_div = page_source.find('div',class_=\"center-side col-md-8\")\n",
    "        title_article = title_div.find('article')\n",
    "        name_manga = title_article.find('h1',class_=\"title-detail\").get_text().strip()\n",
    "        #Get all info\n",
    "        info_div = page_source.find('div',class_=\"col-xs-8 col-info\")\n",
    "        info_article = info_div.find('ul',class_=\"list-info\")\n",
    "        #Creat a list clean info\n",
    "        list_nclean_info = []\n",
    "        clean_info = []\n",
    "        list_nclean_info = info_article.find_all('p',class_=\"col-xs-8\")\n",
    "        for inf in list_nclean_info:\n",
    "            fi = inf.get_text().strip()\n",
    "            clean_info.append(fi)\n",
    "        #Creat result\n",
    "        all_info = {\n",
    "            \"Name\" : name_manga,\n",
    "            \"Author\" : clean_info[0],\n",
    "            \"Status\" : clean_info[1],\n",
    "            \"Tag\" : clean_info[2],\n",
    "            \"Views\" : clean_info[3],\n",
    "            \"URL Link\" : link\n",
    "        }\n",
    "        ######\n",
    "        array.append(all_info)\n",
    "    json.dump(array,f,indent= 4,ensure_ascii=False)\n",
    "##########################################################################\n",
    "sleep(5) \n",
    "browser.close()"
   ]
  },
  {
   "cell_type": "code",
   "execution_count": null,
   "metadata": {},
   "outputs": [],
   "source": []
  }
 ]
}